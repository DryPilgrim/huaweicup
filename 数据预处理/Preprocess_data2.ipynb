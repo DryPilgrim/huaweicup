{
 "cells": [
  {
   "cell_type": "markdown",
   "metadata": {},
   "source": [
    "# 处理附件2中的数据"
   ]
  },
  {
   "cell_type": "code",
   "execution_count": null,
   "metadata": {},
   "outputs": [],
   "source": [
    "import pandas as pd\n",
    "import numpy as np\n",
    "import os\n",
    "from pprint import pprint\n",
    "from scipy import interpolate"
   ]
  },
  {
   "cell_type": "markdown",
   "metadata": {},
   "source": [
    "# 1 加载数据"
   ]
  },
  {
   "cell_type": "code",
   "execution_count": 4,
   "metadata": {},
   "outputs": [],
   "source": [
    "B_hour_pre_raw = pd.read_excel('./data/附件2 监测点B、C空气质量预报基础数据.xlsx',sheet_name='监测点B逐小时污染物浓度与气象一次预报数据')\n",
    "B_hour_actual_raw = pd.read_excel('./data/附件2 监测点B、C空气质量预报基础数据.xlsx',sheet_name='监测点B逐小时污染物浓度与气象实测数据')\n",
    "C_hour_pre_raw = pd.read_excel('./data/附件2 监测点B、C空气质量预报基础数据.xlsx',sheet_name='监测点C逐小时污染物浓度与气象一次预报数据')\n",
    "C_hour_actual_raw = pd.read_excel('./data/附件2 监测点B、C空气质量预报基础数据.xlsx',sheet_name='监测点C逐小时污染物浓度与气象实测数据')\n",
    "\n",
    "B_day_actual_raw = pd.read_excel('./data/附件2 监测点B、C空气质量预报基础数据.xlsx',sheet_name='监测点B逐日污染物浓度实测数据')\n",
    "C_day_actual_raw = pd.read_excel('./data/附件2 监测点B、C空气质量预报基础数据.xlsx',sheet_name='监测点C逐日污染物浓度实测数据')\n",
    "\n"
   ]
  },
  {
   "cell_type": "code",
   "execution_count": 5,
   "metadata": {},
   "outputs": [],
   "source": [
    "B_hour_pre = B_hour_pre_raw\n",
    "B_hour_actual = B_hour_actual_raw\n",
    "C_hour_pre = C_hour_pre_raw\n",
    "C_hour_actual = C_hour_actual_raw\n",
    "\n",
    "B_day_actual = B_day_actual_raw\n",
    "C_day_actual = C_day_actual_raw"
   ]
  },
  {
   "cell_type": "code",
   "execution_count": 7,
   "metadata": {},
   "outputs": [
    {
     "data": {
      "text/plain": [
       "Index(['模型运行日期', '预测时间', '地点', '近地2米温度（℃）', '地表温度（K）', '比湿（kg/kg）', '湿度（%）',\n",
       "       '近地10米风速（m/s）', '近地10米风向（°）', '雨量（mm）', '云量', '边界层高度（m）', '大气压（Kpa）',\n",
       "       '感热通量（W/m²）', '潜热通量（W/m²）', '长波辐射（W/m²）', '短波辐射（W/m²）', '地面太阳能辐射（W/m²）',\n",
       "       'SO2小时平均浓度(μg/m³)', 'NO2小时平均浓度(μg/m³)', 'PM10小时平均浓度(μg/m³)',\n",
       "       'PM2.5小时平均浓度(μg/m³)', 'O3小时平均浓度(μg/m³)', 'CO小时平均浓度(mg/m³)'],\n",
       "      dtype='object')"
      ]
     },
     "execution_count": 7,
     "metadata": {},
     "output_type": "execute_result"
    }
   ],
   "source": [
    "B_hour_pre_raw.columns"
   ]
  },
  {
   "cell_type": "code",
   "execution_count": 8,
   "metadata": {},
   "outputs": [],
   "source": [
    "B_hour_pre.set_axis(['start_time','time', 'place', 'temperature_2m','temperature_surface','specific_humidity','humidity','wind_speed_10m','wind_direction_10m','rainfall','cloudiness','height','pressure','sensible_heat','latent_heat','longwave','shortwave','solar_radiation','so2','no2','pm10', 'pm2.5', 'o3','co'], axis='columns', inplace=True)\n",
    "B_hour_actual.set_axis(['time', 'place', 'so2','no2','pm10', 'pm2.5', 'o3','co','temperature', 'humidity', 'pressure','wind','direction'], axis='columns', inplace=True)\n",
    "\n",
    "C_hour_pre.set_axis(['start_time','time', 'place', 'temperature_2m','temperature_surface','specific_humidity','humidity','wind_speed_10m','wind_direction_10m','rainfall','cloudiness','height','pressure','sensible_heat','latent_heat','longwave','shortwave','solar_radiation','so2','no2','pm10', 'pm2.5', 'o3','co'], axis='columns', inplace=True)\n",
    "C_hour_actual.set_axis(['time', 'place', 'so2','no2','pm10', 'pm2.5', 'o3','co','temperature', 'humidity', 'pressure','wind','direction'], axis='columns', inplace=True)\n",
    "\n",
    "B_day_actual.set_axis(['time', 'place', 'so2','no2','pm10', 'pm2.5', 'o3','co'], axis='columns', inplace=True)\n",
    "C_day_actual.set_axis(['time', 'place', 'so2','no2','pm10', 'pm2.5', 'o3','co'], axis='columns', inplace=True)\n",
    "\n",
    "\n",
    "\n",
    "B_day_actual = B_day_actual[0:-3]\n",
    "C_day_actual = C_day_actual[0:-3]\n",
    "\n"
   ]
  },
  {
   "cell_type": "code",
   "execution_count": 9,
   "metadata": {},
   "outputs": [],
   "source": [
    "# 暂时删除字符串的列，方便后续插值处理，后续会添加回去的\n",
    "BHP_time = B_hour_pre['time']\n",
    "BHA_time = B_hour_actual['time']\n",
    "BDA_time = B_day_actual['time']\n",
    "\n",
    "CHP_time = C_hour_pre['time']\n",
    "CHA_time = C_hour_actual['time']\n",
    "CDA_time = C_day_actual['time']\n",
    "#C_hour_actual表的humidity这一列缺失值太多，直接舍弃\n",
    "\n",
    "B_hour_pre = B_hour_pre.drop(columns=['place','time','start_time'])\n",
    "B_hour_actual = B_hour_actual.drop(columns=['place','time'])\n",
    "C_hour_pre = C_hour_pre.drop(columns=['place','time','start_time'])\n",
    "C_hour_actual = C_hour_actual.drop(columns=['place','humidity','time'])\n",
    "B_day_actual = B_day_actual.drop(columns=['place','time'])\n",
    "C_day_actual = C_day_actual.drop(columns=['place','time'])"
   ]
  },
  {
   "cell_type": "code",
   "execution_count": null,
   "metadata": {},
   "outputs": [],
   "source": [
    "C_hour_pre"
   ]
  },
  {
   "cell_type": "code",
   "execution_count": 10,
   "metadata": {},
   "outputs": [],
   "source": [
    "# 缺失值统一化，把两种类型的缺失数据作为空值去处理\n",
    "B_hour_pre = B_hour_pre.replace('—', np.nan).replace('NULL', np.nan).astype('float')\n",
    "B_hour_actual = B_hour_actual.replace('—', np.nan).replace('NULL', np.nan).astype('float')  \n",
    "C_hour_pre = C_hour_pre.replace('—', np.nan).replace('NULL', np.nan).astype('float')  \n",
    "C_hour_actual = C_hour_actual.replace('—', np.nan).replace('NULL', np.nan).astype('float')  \n",
    "B_day_actual = B_day_actual.replace('—', np.nan).replace('NULL', np.nan).astype('float')  \n",
    "C_day_actual = C_day_actual.replace('—', np.nan).replace('NULL', np.nan).astype('float')  "
   ]
  },
  {
   "cell_type": "code",
   "execution_count": 14,
   "metadata": {},
   "outputs": [],
   "source": [
    "\n",
    "# 异常值处理，小于0的都是异常值\n",
    "B_hour_pre[ B_hour_pre< 0 ] = np.nan\n",
    "B_hour_actual[ B_hour_actual< 0 ] = np.nan\n",
    "C_hour_pre[ C_hour_pre< 0 ] = np.nan\n",
    "C_hour_actual[ C_hour_actual< 0 ] = np.nan\n",
    "B_day_actual[ B_day_actual< 0 ] = np.nan\n",
    "C_day_actual[ C_day_actual< 0 ] = np.nan\n",
    "\n",
    "B_hour_pre.insert(0, 'time', BHP_time)\n",
    "B_hour_actual.insert(0, 'time', BHA_time)\n",
    "C_hour_pre.insert(0, 'time', CHP_time)\n",
    "C_hour_actual.insert(0, 'time', CHA_time)\n",
    "B_day_actual.insert(0, 'time', BDA_time)\n",
    "C_day_actual.insert(0, 'time', CHA_time)\n"
   ]
  },
  {
   "cell_type": "markdown",
   "metadata": {},
   "source": [
    "# 2 插值"
   ]
  },
  {
   "cell_type": "markdown",
   "metadata": {},
   "source": [
    "## 2.1 线性插值"
   ]
  },
  {
   "cell_type": "code",
   "execution_count": null,
   "metadata": {},
   "outputs": [],
   "source": [
    "# filedict = {\"BHP\":B_hour_pre,\"BHA\":B_hour_actual,\"CHP\":C_hour_pre,\"CHA\":C_hour_actual,\"BDA\":B_day_actual,\"CDA\":C_day_actual}\n",
    "\n",
    "filedict = {\"BHP\":B_hour_pre,\"BHA\":B_hour_actual,\"CHP\":C_hour_pre,\"CHA\":C_hour_actual,\"BDA\":B_day_actual,\"CDA\":C_day_actual}\n",
    "for k,data in filedict.items():\n",
    "    for indexs in data.columns:\n",
    "        if indexs =='time':\n",
    "            continue\n",
    "        data['rownum'] = np.arange(data.shape[0])\n",
    "        df_nona = data.dropna(subset = [indexs])\n",
    "        f = interpolate.interp1d(df_nona['rownum'], df_nona[indexs])\n",
    "        data[indexs] = f(data['rownum'])\n",
    "\n",
    "    data = data.drop(columns=['rownum'])\n",
    "    # 把地点加回去\n",
    "    data['place'] = [k[0]]*len(data)\n",
    "    if k ==\"BHP\":\n",
    "        data_BHP = data\n",
    "    elif k ==\"BHA\":\n",
    "        data_BHA = data\n",
    "    elif k ==\"CHP\":\n",
    "        data_CHP = data\n",
    "    elif k ==\"CHA\":\n",
    "        data_CHA = data\n",
    "    elif k ==\"BDA\":\n",
    "        data_BDA = data\n",
    "    elif k ==\"CDA\":\n",
    "        data_CDA = data"
   ]
  },
  {
   "cell_type": "code",
   "execution_count": null,
   "metadata": {},
   "outputs": [],
   "source": [
    "data_BHA"
   ]
  },
  {
   "cell_type": "code",
   "execution_count": null,
   "metadata": {},
   "outputs": [],
   "source": [
    "writer=pd.ExcelWriter('data/data_2_linear.xlsx')   #定义writer\n",
    "data_BHP.to_excel(writer,'监测点B逐小时污染物浓度与气象一次预报数据',index=False) # writer---writer；sheet名称---原始表（35698）\n",
    "data_BHA.to_excel(writer,'监测点B逐小时污染物浓度与气象实测数据',index=False)\n",
    "data_CHP.to_excel(writer,'监测点C逐小时污染物浓度与气象一次预报数据',index=False) # writer---writer；sheet名称---原始表（35698）\n",
    "data_CHA.to_excel(writer,'监测点C逐小时污染物浓度与气象实测数据',index=False)\n",
    "data_BDA.to_excel(writer,'监测点B逐日污染物浓度实测数据',index=False) # writer---writer；sheet名称---原始表（35698）\n",
    "data_CDA.to_excel(writer,'监测点C逐日污染物浓度实测数据',index=False)\n",
    "writer.save()"
   ]
  },
  {
   "cell_type": "markdown",
   "metadata": {},
   "source": [
    "## 2.2 KNN插值"
   ]
  },
  {
   "cell_type": "code",
   "execution_count": 26,
   "metadata": {},
   "outputs": [],
   "source": [
    "filedict = {\"BHP\":B_hour_pre,\"BHA\":B_hour_actual,\"CHP\":C_hour_pre,\"CHA\":C_hour_actual,\"BDA\":B_day_actual,\"CDA\":C_day_actual}\n",
    "\n",
    "for k,data in filedict.items():\n",
    "    def knn_mean(ts, n):\n",
    "        out = np.copy(ts)\n",
    "        for i, val in enumerate(ts):\n",
    "            if np.isnan(val):\n",
    "                n_by_2 = np.ceil(n/2)\n",
    "                lower = np.max([0, int(i-n_by_2)])\n",
    "                upper = np.min([len(ts)+1, int(i+n_by_2)])\n",
    "                ts_near = np.concatenate([ts[lower:i], ts[i:upper]])\n",
    "                out[i] = np.nanmean(ts_near)\n",
    "        return out\n",
    "    for indexs in data.columns:\n",
    "        if indexs =='time':\n",
    "            continue\n",
    "        data[indexs] = knn_mean(data[indexs].values,24*3)\n",
    "    if k ==\"BHP\":\n",
    "        data_BHP = data\n",
    "    elif k ==\"BHA\":\n",
    "        data_BHA = data\n",
    "    elif k ==\"CHP\":\n",
    "        data_CHP = data\n",
    "    elif k ==\"CHA\":\n",
    "        data_CHA = data\n",
    "    elif k ==\"BDA\":\n",
    "        data_BDA = data\n",
    "    elif k ==\"CDA\":\n",
    "        data_CDA = data"
   ]
  },
  {
   "cell_type": "code",
   "execution_count": 30,
   "metadata": {},
   "outputs": [
    {
     "name": "stdout",
     "output_type": "stream",
     "text": [
      "Empty DataFrame\n",
      "Columns: [time, so2, no2, pm10, pm2.5, o3, co, temperature, pressure, wind, direction]\n",
      "Index: []\n"
     ]
    }
   ],
   "source": [
    "\n",
    "# 判断是否有空值\n",
    "print(data_CHA[data_CHA.isnull().T.any()])"
   ]
  },
  {
   "cell_type": "code",
   "execution_count": 31,
   "metadata": {},
   "outputs": [],
   "source": [
    "writer=pd.ExcelWriter('data/data_2_knn.xlsx')   #定义writer\n",
    "data_BHP.to_excel(writer,'监测点B逐小时污染物浓度与气象一次预报数据',index=False) # writer---writer；sheet名称---原始表（35698）\n",
    "data_BHA.to_excel(writer,'监测点B逐小时污染物浓度与气象实测数据',index=False)\n",
    "data_CHP.to_excel(writer,'监测点C逐小时污染物浓度与气象一次预报数据',index=False) # writer---writer；sheet名称---原始表（35698）\n",
    "data_CHA.to_excel(writer,'监测点C逐小时污染物浓度与气象实测数据',index=False)\n",
    "data_BDA.to_excel(writer,'监测点B逐日污染物浓度实测数据',index=False) # writer---writer；sheet名称---原始表（35698）\n",
    "data_CDA.to_excel(writer,'监测点C逐日污染物浓度实测数据',index=False)\n",
    "writer.save()"
   ]
  }
 ],
 "metadata": {
  "interpreter": {
   "hash": "344443636c3027c5042750c9c609acdda283a9c43681b128a8c1053e7ad2aa7d"
  },
  "kernelspec": {
   "display_name": "Python 3.8.5 64-bit ('base': conda)",
   "name": "python3"
  },
  "language_info": {
   "codemirror_mode": {
    "name": "ipython",
    "version": 3
   },
   "file_extension": ".py",
   "mimetype": "text/x-python",
   "name": "python",
   "nbconvert_exporter": "python",
   "pygments_lexer": "ipython3",
   "version": "3.8.5"
  }
 },
 "nbformat": 4,
 "nbformat_minor": 2
}
