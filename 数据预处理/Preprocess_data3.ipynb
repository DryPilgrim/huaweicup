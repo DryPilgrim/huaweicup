{
 "cells": [
  {
   "cell_type": "markdown",
   "metadata": {},
   "source": [
    "# 处理附件3中数据"
   ]
  },
  {
   "cell_type": "code",
   "execution_count": null,
   "metadata": {},
   "outputs": [],
   "source": [
    "import pandas as pd\n",
    "import numpy as np\n",
    "import os\n",
    "from pprint import pprint\n",
    "from scipy import interpolate"
   ]
  },
  {
   "cell_type": "markdown",
   "metadata": {},
   "source": [
    "# 1 加载数据"
   ]
  },
  {
   "cell_type": "code",
   "execution_count": 14,
   "metadata": {},
   "outputs": [],
   "source": [
    "A1H_pre_raw = pd.read_excel('./data/附件3 监测点A1、A2、A3空气质量预报基础数据.xlsx',sheet_name='监测点A1逐小时污染物浓度与气象一次预报数据')\n",
    "A2H_pre_raw = pd.read_excel('./data/附件3 监测点A1、A2、A3空气质量预报基础数据.xlsx',sheet_name='监测点A2逐小时污染物浓度与气象一次预报数据')\n",
    "A3H_pre_raw = pd.read_excel('./data/附件3 监测点A1、A2、A3空气质量预报基础数据.xlsx',sheet_name='监测点A3逐小时污染物浓度与气象一次预报数据')\n",
    "\n",
    "A1H_act_raw = pd.read_excel('./data/附件3 监测点A1、A2、A3空气质量预报基础数据.xlsx',sheet_name='监测点A1逐小时污染物浓度与气象实测数据')\n",
    "A2H_act_raw = pd.read_excel('./data/附件3 监测点A1、A2、A3空气质量预报基础数据.xlsx',sheet_name='监测点A2逐小时污染物浓度与气象实测数据')\n",
    "A3H_act_raw = pd.read_excel('./data/附件3 监测点A1、A2、A3空气质量预报基础数据.xlsx',sheet_name='监测点A3逐小时污染物浓度与气象实测数据')\n",
    "\n",
    "A1D_act_raw = pd.read_excel('./data/附件3 监测点A1、A2、A3空气质量预报基础数据.xlsx',sheet_name='监测点A1逐日污染物浓度实测数据')\n",
    "A2D_act_raw = pd.read_excel('./data/附件3 监测点A1、A2、A3空气质量预报基础数据.xlsx',sheet_name='监测点A2逐日污染物浓度实测数据')\n",
    "A3D_act_raw = pd.read_excel('./data/附件3 监测点A1、A2、A3空气质量预报基础数据.xlsx',sheet_name='监测点A3逐日污染物浓度实测数据')"
   ]
  },
  {
   "cell_type": "code",
   "execution_count": 15,
   "metadata": {},
   "outputs": [],
   "source": [
    "A1H_pre = A1H_pre_raw\n",
    "A2H_pre = A2H_pre_raw\n",
    "A3H_pre = A3H_pre_raw\n",
    "\n",
    "A1H_act = A1H_act_raw\n",
    "A2H_act = A2H_act_raw\n",
    "A3H_act = A3H_act_raw\n",
    "\n",
    "A1D_act = A1D_act_raw\n",
    "A2D_act = A2D_act_raw\n",
    "A3D_act = A3D_act_raw"
   ]
  },
  {
   "cell_type": "code",
   "execution_count": 5,
   "metadata": {},
   "outputs": [
    {
     "data": {
      "text/plain": [
       "Index(['监测时间', '地点', 'SO2监测浓度(μg/m³)', 'NO2监测浓度(μg/m³)', 'PM10监测浓度(μg/m³)',\n",
       "       'PM2.5监测浓度(μg/m³)', 'O3监测浓度(μg/m³)', 'CO监测浓度(mg/m³)', '温度(℃)', '湿度(%)',\n",
       "       '近地风速(m/s)', '风向(°)'],\n",
       "      dtype='object')"
      ]
     },
     "execution_count": 5,
     "metadata": {},
     "output_type": "execute_result"
    }
   ],
   "source": [
    "A1H_act.columns"
   ]
  },
  {
   "cell_type": "code",
   "execution_count": 6,
   "metadata": {},
   "outputs": [],
   "source": [
    "A1H_pre.set_axis(['start_time','time', 'place', 'temperature_2m','temperature_surface','specific_humidity','humidity','wind_speed_10m','wind_direction_10m','rainfall','cloudiness','height','pressure','sensible_heat','latent_heat','longwave','shortwave','solar_radiation','so2','no2','pm10', 'pm2.5', 'o3','co'], axis='columns', inplace=True)\n",
    "A1H_act.set_axis(['time', 'place', 'so2','no2','pm10', 'pm2.5', 'o3','co','temperature', 'humidity','wind','direction'], axis='columns', inplace=True)\n",
    "\n",
    "A2H_pre.set_axis(['start_time','time', 'place', 'temperature_2m','temperature_surface','specific_humidity','humidity','wind_speed_10m','wind_direction_10m','rainfall','cloudiness','height','pressure','sensible_heat','latent_heat','longwave','shortwave','solar_radiation','so2','no2','pm10', 'pm2.5', 'o3','co'], axis='columns', inplace=True)\n",
    "A2H_act.set_axis(['time', 'place', 'so2','no2','pm10', 'pm2.5', 'o3','co','temperature', 'humidity','pressure','wind','direction'], axis='columns', inplace=True)\n",
    "\n",
    "A3H_pre.set_axis(['start_time','time', 'place', 'temperature_2m','temperature_surface','specific_humidity','humidity','wind_speed_10m','wind_direction_10m','rainfall','cloudiness','height','pressure','sensible_heat','latent_heat','longwave','shortwave','solar_radiation','so2','no2','pm10', 'pm2.5', 'o3','co'], axis='columns', inplace=True)\n",
    "A3H_act.set_axis(['time', 'place', 'so2','no2','pm10', 'pm2.5', 'o3','co','temperature', 'humidity','pressure','wind','direction'], axis='columns', inplace=True)\n",
    "\n",
    "\n",
    "A1D_act.set_axis(['time', 'place', 'so2','no2','pm10', 'pm2.5', 'o3','co'], axis='columns', inplace=True)\n",
    "A2D_act.set_axis(['time', 'place', 'so2','no2','pm10', 'pm2.5', 'o3','co'], axis='columns', inplace=True)\n",
    "A3D_act.set_axis(['time', 'place', 'so2','no2','pm10', 'pm2.5', 'o3','co'], axis='columns', inplace=True)\n",
    "\n",
    "A1D_act = A1D_act[0:-3]\n",
    "A2D_act = A2D_act[0:-3]\n",
    "A2D_act = A3D_act[0:-3]\n"
   ]
  },
  {
   "cell_type": "code",
   "execution_count": 7,
   "metadata": {},
   "outputs": [],
   "source": [
    "# 暂时删除字符串的列，方便后续插值处理，后续会添加回去的\n",
    "A1H_pre_time = A1H_pre['time']\n",
    "A2H_pre_time  = A2H_pre['time']\n",
    "A3H_pre_time  = A3H_pre['time']\n",
    "\n",
    "A1H_act_time  = A1H_act['time']\n",
    "A2H_act_time  = A2H_act['time']\n",
    "A3H_act_time  = A3H_act['time']\n",
    "\n",
    "A1D_act_time  = A1D_act['time']\n",
    "A2D_act_time  = A2D_act['time']\n",
    "A3D_act_time  = A3D_act['time']\n",
    "#C_hour_actual表的humidity这一列缺失值太多，直接舍弃\n",
    "\n",
    "A1H_pre = A1H_pre.drop(columns=['place','time','start_time'])\n",
    "A2H_pre = A2H_pre.drop(columns=['place','time','start_time'])\n",
    "A3H_pre = A3H_pre.drop(columns=['place','time','start_time'])\n",
    "\n",
    "A1H_act = A1H_act.drop(columns=['place','time'])\n",
    "A2H_act = A2H_act.drop(columns=['place','time'])\n",
    "A3H_act = A3H_act.drop(columns=['place','time'])\n",
    "\n",
    "A1D_act = A1D_act.drop(columns=['place','time'])\n",
    "A2D_act = A2D_act.drop(columns=['place','time'])\n",
    "A3D_act = A3D_act.drop(columns=['place','time'])"
   ]
  },
  {
   "cell_type": "code",
   "execution_count": 8,
   "metadata": {},
   "outputs": [],
   "source": [
    "# 缺失值统一化\n",
    "A1H_pre = A1H_pre.replace('—', np.nan).replace('NULL', np.nan).astype('float')\n",
    "A2H_pre = A2H_pre.replace('—', np.nan).replace('NULL', np.nan).astype('float')  \n",
    "A3H_pre = A3H_pre.replace('—', np.nan).replace('NULL', np.nan).astype('float')  \n",
    "\n",
    "A1H_act = A1H_act.replace('—', np.nan).replace('NULL', np.nan).astype('float')  \n",
    "A2H_act = A2H_act.replace('—', np.nan).replace('NULL', np.nan).astype('float')  \n",
    "A3H_act = A3H_act.replace('—', np.nan).replace('NULL', np.nan).astype('float')  \n",
    "\n",
    "A1D_act = A1D_act.replace('—', np.nan).replace('NULL', np.nan).astype('float')  \n",
    "A2D_act = A2D_act.replace('—', np.nan).replace('NULL', np.nan).astype('float')  \n",
    "A3D_act = A3D_act.replace('—', np.nan).replace('NULL', np.nan).astype('float')  "
   ]
  },
  {
   "cell_type": "code",
   "execution_count": 9,
   "metadata": {},
   "outputs": [],
   "source": [
    "\n",
    "# 异常值处理\n",
    "A1H_pre[ A1H_pre< 0 ] = np.nan\n",
    "A2H_pre[ A2H_pre< 0 ] = np.nan\n",
    "A3H_pre[ A3H_pre< 0 ] = np.nan\n",
    "\n",
    "A1H_act[ A1H_act< 0 ] = np.nan\n",
    "A2H_act[ A2H_act< 0 ] = np.nan\n",
    "A3H_act[ A3H_act< 0 ] = np.nan\n",
    "\n",
    "A1D_act[ A1D_act< 0 ] = np.nan\n",
    "A2D_act[ A2D_act< 0 ] = np.nan\n",
    "A3D_act[ A3D_act< 0 ] = np.nan\n",
    "\n",
    "\n",
    "A1H_pre.insert(0, 'time', A1H_pre_time)\n",
    "A2H_pre.insert(0, 'time', A2H_pre_time)\n",
    "A3H_pre.insert(0, 'time', A3H_pre_time)\n",
    "\n",
    "A1H_act.insert(0, 'time', A1H_act_time)\n",
    "A2H_act.insert(0, 'time', A2H_act_time)\n",
    "A3H_act.insert(0, 'time', A3H_act_time)\n",
    "\n",
    "A1D_act.insert(0, 'time', A1D_act_time)\n",
    "A2D_act.insert(0, 'time', A2D_act_time)\n",
    "A3D_act.insert(0, 'time', A3D_act_time)"
   ]
  },
  {
   "cell_type": "code",
   "execution_count": 10,
   "metadata": {},
   "outputs": [
    {
     "data": {
      "text/plain": [
       "Index(['time', 'so2', 'no2', 'pm10', 'pm2.5', 'o3', 'co'], dtype='object')"
      ]
     },
     "execution_count": 10,
     "metadata": {},
     "output_type": "execute_result"
    }
   ],
   "source": [
    "A1D_act.columns"
   ]
  },
  {
   "cell_type": "markdown",
   "metadata": {},
   "source": [
    "# 2 插值"
   ]
  },
  {
   "cell_type": "markdown",
   "metadata": {},
   "source": [
    "## 2.1 线性插值"
   ]
  },
  {
   "cell_type": "code",
   "execution_count": null,
   "metadata": {},
   "outputs": [],
   "source": [
    "\n",
    "filedict = {\"A1HP\":A1H_pre,\"A2HP\":A2H_pre,\"A3HP\":A3H_pre,\"A1HA\":A1H_act,\"A2HA\":A2H_act,\"A3HA\":A3H_act,\"A1DA\":A1D_act,\"A2DA\":A2D_act,\"A3DA\":A3D_act}\n",
    "for k,data in filedict.items():\n",
    "    for indexs in data.columns:\n",
    "        if indexs =='time':\n",
    "            continue\n",
    "        data['rownum'] = np.arange(data.shape[0])\n",
    "        df_nona = data.dropna(subset = [indexs])\n",
    "        f = interpolate.interp1d(df_nona['rownum'], df_nona[indexs])\n",
    "        data[indexs] = f(data['rownum'])\n",
    "\n",
    "    data = data.drop(columns=['rownum'])\n",
    "    # 把地点加回去\n",
    "    data['place'] = [k[0]]*len(data)\n",
    "    if k ==\"A1HP\":\n",
    "        data_A1HP = data\n",
    "    elif k ==\"A2HP\":\n",
    "        data_A2HP = data\n",
    "    elif k ==\"A3HP\":\n",
    "        data_A3HP = data\n",
    "    elif k ==\"A1HA\":\n",
    "        data_A1HA = data\n",
    "    elif k ==\"A2HA\":\n",
    "        data_A2HA = data\n",
    "    elif k ==\"A3HA\":\n",
    "        data_A3HA = data\n",
    "    elif k ==\"A1DA\":\n",
    "        data_A1DA = data\n",
    "    elif k ==\"A2DA\":\n",
    "        data_A2DA = data\n",
    "    elif k ==\"A3DA\":\n",
    "        data_A3DA = data"
   ]
  },
  {
   "cell_type": "code",
   "execution_count": null,
   "metadata": {},
   "outputs": [],
   "source": [
    "data_BHA"
   ]
  },
  {
   "cell_type": "code",
   "execution_count": null,
   "metadata": {},
   "outputs": [],
   "source": [
    "writer=pd.ExcelWriter('data/data_3_linear.xlsx')   #定义writer\n",
    "data_A1HP.to_excel(writer,'监测点A1逐小时污染物浓度与气象一次预报数据',index=False) # writer---writer；sheet名称---原始表（35698）\n",
    "data_A2HP.to_excel(writer,'监测点A2逐小时污染物浓度与气象一次预报数据',index=False)\n",
    "data_A3HP.to_excel(writer,'监测点A3逐小时污染物浓度与气象一次预报数据',index=False) # writer---writer；sheet名称---原始表（35698）\n",
    "\n",
    "data_A1HA.to_excel(writer,'监测点A1逐小时污染物浓度与气象实测数据',index=False)\n",
    "data_A2HA.to_excel(writer,'监测点A2逐小时污染物浓度与气象实测数据',index=False) # writer---writer；sheet名称---原始表（35698）\n",
    "data_A3HA.to_excel(writer,'监测点A3逐小时污染物浓度与气象实测数据',index=False)\n",
    "\n",
    "data_A1DA.to_excel(writer,'监测点A1逐日污染物浓度实测数据',index=False)\n",
    "data_A2DA.to_excel(writer,'监测点A2逐日污染物浓度实测数据',index=False) # writer---writer；sheet名称---原始表（35698）\n",
    "data_A3DA.to_excel(writer,'监测点A3逐日污染物浓度实测数据',index=False)\n",
    "writer.save()"
   ]
  },
  {
   "cell_type": "markdown",
   "metadata": {},
   "source": [
    "## 2.2 KNN插值"
   ]
  },
  {
   "cell_type": "code",
   "execution_count": 11,
   "metadata": {},
   "outputs": [
    {
     "name": "stderr",
     "output_type": "stream",
     "text": [
      "<ipython-input-11-e459cdbf532b>:12: RuntimeWarning: Mean of empty slice\n",
      "  out[i] = np.nanmean(ts_near)\n"
     ]
    }
   ],
   "source": [
    "filedict = {\"A1HP\":A1H_pre,\"A2HP\":A2H_pre,\"A3HP\":A3H_pre,\"A1HA\":A1H_act,\"A2HA\":A2H_act,\"A3HA\":A3H_act,\"A1DA\":A1D_act,\"A2DA\":A2D_act,\"A3DA\":A3D_act}\n",
    "\n",
    "for k,data in filedict.items():\n",
    "    def knn_mean(ts, n):\n",
    "        out = np.copy(ts)\n",
    "        for i, val in enumerate(ts):\n",
    "            if np.isnan(val):\n",
    "                n_by_2 = np.ceil(n/2)\n",
    "                lower = np.max([0, int(i-n_by_2)])\n",
    "                upper = np.min([len(ts)+1, int(i+n_by_2)])\n",
    "                ts_near = np.concatenate([ts[lower:i], ts[i:upper]])\n",
    "                out[i] = np.nanmean(ts_near)\n",
    "        return out\n",
    "    for indexs in data.columns:\n",
    "        if indexs =='time':\n",
    "            continue\n",
    "        data[indexs] = knn_mean(data[indexs].values,24)\n",
    "    if k ==\"A1HP\":\n",
    "        data_A1HP = data\n",
    "    elif k ==\"A2HP\":\n",
    "        data_A2HP = data\n",
    "    elif k ==\"A3HP\":\n",
    "        data_A3HP = data\n",
    "    elif k ==\"A1HA\":\n",
    "        data_A1HA = data\n",
    "    elif k ==\"A2HA\":\n",
    "        data_A2HA = data\n",
    "    elif k ==\"A3HA\":\n",
    "        data_A3HA = data\n",
    "    elif k ==\"A1DA\":\n",
    "        data_A1DA = data\n",
    "    elif k ==\"A2DA\":\n",
    "        data_A2DA = data\n",
    "    elif k ==\"A3DA\":\n",
    "        data_A3DA = data"
   ]
  },
  {
   "cell_type": "markdown",
   "metadata": {},
   "source": []
  },
  {
   "cell_type": "markdown",
   "metadata": {},
   "source": []
  },
  {
   "cell_type": "code",
   "execution_count": 12,
   "metadata": {},
   "outputs": [],
   "source": [
    "writer=pd.ExcelWriter('data/data_3_knn.xlsx')   #定义writer\n",
    "data_A1HP.to_excel(writer,'监测点A1逐小时污染物浓度与气象一次预报数据',index=False) # writer---writer；sheet名称---原始表（35698）\n",
    "data_A2HP.to_excel(writer,'监测点A2逐小时污染物浓度与气象一次预报数据',index=False)\n",
    "data_A3HP.to_excel(writer,'监测点A3逐小时污染物浓度与气象一次预报数据',index=False) # writer---writer；sheet名称---原始表（35698）\n",
    "\n",
    "data_A1HA.to_excel(writer,'监测点A1逐小时污染物浓度与气象实测数据',index=False)\n",
    "data_A2HA.to_excel(writer,'监测点A2逐小时污染物浓度与气象实测数据',index=False) # writer---writer；sheet名称---原始表（35698）\n",
    "data_A3HA.to_excel(writer,'监测点A3逐小时污染物浓度与气象实测数据',index=False)\n",
    "\n",
    "data_A1DA.to_excel(writer,'监测点A1逐日污染物浓度实测数据',index=False)\n",
    "data_A2DA.to_excel(writer,'监测点A2逐日污染物浓度实测数据',index=False) # writer---writer；sheet名称---原始表（35698）\n",
    "data_A3DA.to_excel(writer,'监测点A3逐日污染物浓度实测数据',index=False)\n",
    "writer.save()"
   ]
  }
 ],
 "metadata": {
  "interpreter": {
   "hash": "344443636c3027c5042750c9c609acdda283a9c43681b128a8c1053e7ad2aa7d"
  },
  "kernelspec": {
   "display_name": "Python 3.8.5 64-bit ('base': conda)",
   "name": "python3"
  },
  "language_info": {
   "codemirror_mode": {
    "name": "ipython",
    "version": 3
   },
   "file_extension": ".py",
   "mimetype": "text/x-python",
   "name": "python",
   "nbconvert_exporter": "python",
   "pygments_lexer": "ipython3",
   "version": "3.8.5"
  }
 },
 "nbformat": 4,
 "nbformat_minor": 2
}
